{
 "cells": [
  {
   "cell_type": "markdown",
   "id": "4af29a77",
   "metadata": {},
   "source": [
    "# Principal Component Analysis with the `scikit-learn` library"
   ]
  },
  {
   "cell_type": "markdown",
   "id": "a9906121",
   "metadata": {},
   "source": [
    "Imports"
   ]
  },
  {
   "cell_type": "code",
   "execution_count": 3,
   "id": "1a73ba56",
   "metadata": {},
   "outputs": [],
   "source": [
    "# Imports\n",
    "import numpy as np\n",
    "from sklearn.decomposition import PCA"
   ]
  },
  {
   "cell_type": "markdown",
   "id": "65c1810b",
   "metadata": {},
   "source": [
    "Data Preparation"
   ]
  },
  {
   "cell_type": "code",
   "execution_count": 4,
   "id": "20260481",
   "metadata": {},
   "outputs": [],
   "source": [
    "X = np.array([[-1, -1], [-2, -1], [-3, -2], [1, 1], [2, 1], [3, 2]])"
   ]
  },
  {
   "cell_type": "markdown",
   "id": "2e5e744c",
   "metadata": {},
   "source": [
    "Using PCA"
   ]
  },
  {
   "cell_type": "code",
   "execution_count": 8,
   "id": "7b077349",
   "metadata": {},
   "outputs": [
    {
     "data": {
      "text/plain": [
       "(array([[-1, -1],\n",
       "        [-2, -1],\n",
       "        [-3, -2],\n",
       "        [ 1,  1],\n",
       "        [ 2,  1],\n",
       "        [ 3,  2]]),\n",
       " array([[-1.38340578],\n",
       "        [-2.22189802],\n",
       "        [-3.6053038 ],\n",
       "        [ 1.38340578],\n",
       "        [ 2.22189802],\n",
       "        [ 3.6053038 ]]),\n",
       " array([[-1.15997501, -0.75383654],\n",
       "        [-1.86304424, -1.21074232],\n",
       "        [-3.02301925, -1.96457886],\n",
       "        [ 1.15997501,  0.75383654],\n",
       "        [ 1.86304424,  1.21074232],\n",
       "        [ 3.02301925,  1.96457886]]))"
      ]
     },
     "execution_count": 8,
     "metadata": {},
     "output_type": "execute_result"
    }
   ],
   "source": [
    "pca = PCA(n_components=1)\n",
    "X_reduced = pca.fit_transform(X)\n",
    "X_recoverd = pca.inverse_transform(X_reduced)\n",
    "\n",
    "X, X_reduced, X_recoverd"
   ]
  }
 ],
 "metadata": {
  "kernelspec": {
   "display_name": "model",
   "language": "python",
   "name": "python3"
  },
  "language_info": {
   "codemirror_mode": {
    "name": "ipython",
    "version": 3
   },
   "file_extension": ".py",
   "mimetype": "text/x-python",
   "name": "python",
   "nbconvert_exporter": "python",
   "pygments_lexer": "ipython3",
   "version": "3.9.23"
  }
 },
 "nbformat": 4,
 "nbformat_minor": 5
}
