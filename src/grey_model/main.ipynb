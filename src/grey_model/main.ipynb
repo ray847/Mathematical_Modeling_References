{
 "cells": [
  {
   "cell_type": "markdown",
   "id": "ac0f4b75",
   "metadata": {},
   "source": [
    "# Grey Prediction Model implemented with `numpy`"
   ]
  },
  {
   "cell_type": "markdown",
   "id": "dff2e141",
   "metadata": {},
   "source": [
    "Imports"
   ]
  },
  {
   "cell_type": "code",
   "execution_count": 1,
   "id": "71ff5b3e",
   "metadata": {},
   "outputs": [],
   "source": [
    "import numpy as np\n",
    "\n",
    "from gm_1_1 import GreyModel_1_1"
   ]
  },
  {
   "cell_type": "markdown",
   "id": "f09a45e7",
   "metadata": {},
   "source": [
    "Data Preperation"
   ]
  },
  {
   "cell_type": "code",
   "execution_count": 2,
   "id": "4f313c8f",
   "metadata": {},
   "outputs": [],
   "source": [
    "x = np.array([-18, 0.34, 4.68, 8.49, 29.84, 50.21, 77.65, 109.36])"
   ]
  },
  {
   "cell_type": "markdown",
   "id": "e84b8989",
   "metadata": {},
   "source": [
    "Usage"
   ]
  },
  {
   "cell_type": "code",
   "execution_count": 3,
   "id": "fc5cc7d3",
   "metadata": {},
   "outputs": [
    {
     "data": {
      "text/plain": [
       "array([[-7.13079493e+00],\n",
       "       [ 1.68023015e-01],\n",
       "       [ 1.23680957e+01],\n",
       "       [ 3.27606820e+01],\n",
       "       [ 6.68471653e+01],\n",
       "       [ 1.23823182e+02],\n",
       "       [ 2.19059364e+02],\n",
       "       [ 3.78247927e+02],\n",
       "       [ 6.44333760e+02],\n",
       "       [ 1.08909982e+03]])"
      ]
     },
     "execution_count": 3,
     "metadata": {},
     "output_type": "execute_result"
    }
   ],
   "source": [
    "model = GreyModel_1_1()\n",
    "model.fit(x)\n",
    "t_pred = np.linspace(0, x.size + 5, 10)\n",
    "predition = model.predict(t_pred)\n",
    "\n",
    "predition"
   ]
  }
 ],
 "metadata": {
  "kernelspec": {
   "display_name": "model",
   "language": "python",
   "name": "python3"
  },
  "language_info": {
   "codemirror_mode": {
    "name": "ipython",
    "version": 3
   },
   "file_extension": ".py",
   "mimetype": "text/x-python",
   "name": "python",
   "nbconvert_exporter": "python",
   "pygments_lexer": "ipython3",
   "version": "3.9.23"
  }
 },
 "nbformat": 4,
 "nbformat_minor": 5
}
