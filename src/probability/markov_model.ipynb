{
 "cells": [
  {
   "cell_type": "markdown",
   "id": "d537ce22",
   "metadata": {},
   "source": [
    "# Markov chain model implemented in `markov_model.py` with numpy and sympy"
   ]
  },
  {
   "cell_type": "code",
   "execution_count": 6,
   "id": "c58e9db1",
   "metadata": {},
   "outputs": [],
   "source": [
    "# Imports\n",
    "import numpy as np\n",
    "from markov_model import MarkovModel"
   ]
  },
  {
   "cell_type": "markdown",
   "id": "ff8f54b4",
   "metadata": {},
   "source": [
    "Training Data"
   ]
  },
  {
   "cell_type": "code",
   "execution_count": 7,
   "id": "38fb584d",
   "metadata": {},
   "outputs": [],
   "source": [
    "data = np.array([1,3,2,2,1,4,3,1,2,4,4,3,1,1,1,1,2,3,4,4,3,1,4,1,1,2,1,4,2,4,4,1,4,2,1,4,2,4,2,2,2,3,1,3,2,4,1,4,3,1,3,4,4,2,1,1,2,2,4,4,4,4,1,1,3,2,2,3,2,1,1,2,2,3,3,4,4,2,1,2,2,3,3,3,1,4,3,3,4,2,3,4,1,1,2,2,3,3,4,4])"
   ]
  },
  {
   "cell_type": "markdown",
   "id": "dd9537ce",
   "metadata": {},
   "source": [
    "Instantiate the Model"
   ]
  },
  {
   "cell_type": "code",
   "execution_count": 8,
   "id": "6ab4e430",
   "metadata": {},
   "outputs": [],
   "source": [
    "model = MarkovModel()"
   ]
  },
  {
   "cell_type": "markdown",
   "id": "50807a94",
   "metadata": {},
   "source": [
    "Train the Model"
   ]
  },
  {
   "cell_type": "code",
   "execution_count": 9,
   "id": "89a65a30",
   "metadata": {},
   "outputs": [],
   "source": [
    "model.fit(data)"
   ]
  },
  {
   "cell_type": "markdown",
   "id": "3e69a1fc",
   "metadata": {},
   "source": [
    "Predict Future States"
   ]
  },
  {
   "cell_type": "code",
   "execution_count": 12,
   "id": "c622fb2a",
   "metadata": {},
   "outputs": [
    {
     "name": "stdout",
     "output_type": "stream",
     "text": [
      "Probability Matrix Matrix([[4/13, 3/13, 2/7, 5/26], [7/26, 4/13, 4/21, 7/26], [2/13, 7/26, 5/21, 5/26], [7/26, 5/26, 2/7, 9/26]])\n",
      "prediction: [1 4 4]\n",
      "probability prediction: [[[0.307692307692308]\n",
      "  [0.269230769230769]\n",
      "  [0.153846153846154]\n",
      "  [0.269230769230769]]\n",
      "\n",
      " [[0.252535925612849]\n",
      "  [0.267469709777402]\n",
      "  [0.208227669766131]\n",
      "  [0.271766694843618]]\n",
      "\n",
      " [[0.251183586771076]\n",
      "  [0.263119183343190]\n",
      "  [0.212703599115264]\n",
      "  [0.272993630770469]]]\n",
      "trend: [np.int64(4)]\n",
      "probability trend: [Matrix([\n",
      "[ 10868/43255],\n",
      "[79508/302785],\n",
      "[   1839/8651],\n",
      "[82836/302785]])]\n"
     ]
    }
   ],
   "source": [
    "prediction: np.ndarray = model.predict(data, 3)\n",
    "probability_prediction: np.ndarray = model.predict_proba(data, 3)\n",
    "trend: list = model.trend()\n",
    "probability_trend: list = model.trend_proba()\n",
    "\n",
    "print(\"Probability Matrix\", model.probability_matrix)\n",
    "print(\"prediction:\", prediction)\n",
    "print(\"probability prediction:\", probability_prediction)\n",
    "print(\"trend:\", trend)\n",
    "print(\"probability trend:\", probability_trend)"
   ]
  }
 ],
 "metadata": {
  "kernelspec": {
   "display_name": "model",
   "language": "python",
   "name": "python3"
  },
  "language_info": {
   "codemirror_mode": {
    "name": "ipython",
    "version": 3
   },
   "file_extension": ".py",
   "mimetype": "text/x-python",
   "name": "python",
   "nbconvert_exporter": "python",
   "pygments_lexer": "ipython3",
   "version": "3.9.23"
  }
 },
 "nbformat": 4,
 "nbformat_minor": 5
}
