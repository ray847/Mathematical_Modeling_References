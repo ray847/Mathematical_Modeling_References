{
 "cells": [
  {
   "cell_type": "markdown",
   "id": "7c658dd9",
   "metadata": {},
   "source": [
    "# Genetic Algorithm with `pygad`\n",
    "\n",
    "https://pygad.readthedocs.io/en/latest/index.html"
   ]
  },
  {
   "cell_type": "markdown",
   "id": "7f23f405",
   "metadata": {},
   "source": [
    "Imports"
   ]
  },
  {
   "cell_type": "code",
   "execution_count": 7,
   "id": "11ae658c",
   "metadata": {},
   "outputs": [],
   "source": [
    "# imports\n",
    "import numpy as np\n",
    "import pygad"
   ]
  },
  {
   "cell_type": "markdown",
   "id": "6c0dfd8c",
   "metadata": {},
   "source": [
    "Define the Fitness Function"
   ]
  },
  {
   "cell_type": "code",
   "execution_count": 8,
   "id": "b0d99842",
   "metadata": {},
   "outputs": [],
   "source": [
    "# Constants\n",
    "WEIGHTS = np.array([1, 2, 3, 4, 5], dtype=float)\n",
    "TARGET: float = 100.0\n",
    "\n",
    "def predict(input: np.ndarray) -> float:\n",
    "    \"\"\"\n",
    "    A simple predict function.\n",
    "\n",
    "    @param input\n",
    "    @return ouput\n",
    "    \"\"\"\n",
    "    return np.sum(WEIGHTS * input)\n",
    "\n",
    "def fitness_function(\n",
    "    ga_instance: pygad.GA,\n",
    "    solution: np.ndarray,\n",
    "    solution_idx: int\n",
    ") -> float:\n",
    "    \"\"\"\n",
    "    Fitness function for the genetic algorithm.\n",
    "\n",
    "    @param ga_instance: The genetic algorithm instance.\n",
    "    @param solution: The solution candidate.\n",
    "    @param solution_idx: The index of the solution candidate.\n",
    "    @return The fitness value of the solution candidate.\n",
    "    \"\"\"\n",
    "    prediction = predict(solution)\n",
    "    fitness = 1.0 / (1.0 + np.abs(prediction - TARGET))\n",
    "    return fitness"
   ]
  },
  {
   "cell_type": "markdown",
   "id": "74c56136",
   "metadata": {},
   "source": [
    "Create the GA solver"
   ]
  },
  {
   "cell_type": "code",
   "execution_count": 9,
   "id": "47f6fb8a",
   "metadata": {},
   "outputs": [
    {
     "name": "stderr",
     "output_type": "stream",
     "text": [
      "c:\\Users\\xiach\\anaconda3\\envs\\model\\lib\\site-packages\\pygad\\pygad.py:744: UserWarning: The percentage of genes to mutate (mutation_percent_genes=10) resulted in selecting (0) genes. The number of genes to mutate is set to 1 (mutation_num_genes=1).\n",
      "If you do not want to mutate any gene, please set mutation_type=None.\n",
      "  warnings.warn(f\"The percentage of genes to mutate (mutation_percent_genes={mutation_percent_genes}) resulted in selecting ({mutation_num_genes}) genes. The number of genes to mutate is set to 1 (mutation_num_genes=1).\\nIf you do not want to mutate any gene, please set mutation_type=None.\")\n"
     ]
    }
   ],
   "source": [
    "ga_instance = pygad.GA(\n",
    "    num_generations=100,            # Number of generations.\n",
    "    num_parents_mating=2,           # Number of solutions to be selected as parents.\n",
    "    fitness_func=fitness_function,  # Defined above.\n",
    "    sol_per_pop=5,                  # Number of solutions within the population.\n",
    "    num_genes=len(WEIGHTS),         # Number of genes in the solution.\n",
    "    init_range_low=-10,\n",
    "    init_range_high=10,\n",
    "    parent_selection_type=\"tournament\", # Either \"sss\", \"rws\", \"rank\", \"random\", \"tournament\"\n",
    "    keep_parents=1, # Number of parents to keep in the current population.\n",
    "    crossover_type=\"single_point\",  # Either \"single_point\", \"two_points\", \"uniform\", \"scattered\"\n",
    "    mutation_type=\"random\", # Either \"random\", \"swap\", \"inversion\", \"scramble\", \"adaptive\"\n",
    "    mutation_percent_genes=10,\n",
    ")"
   ]
  },
  {
   "cell_type": "markdown",
   "id": "066dab88",
   "metadata": {},
   "source": [
    "Run the Solver"
   ]
  },
  {
   "cell_type": "code",
   "execution_count": 10,
   "id": "3abee0bb",
   "metadata": {},
   "outputs": [],
   "source": [
    "ga_instance.run()"
   ]
  },
  {
   "cell_type": "markdown",
   "id": "0016eab8",
   "metadata": {},
   "source": [
    "Get the Results"
   ]
  },
  {
   "cell_type": "code",
   "execution_count": 11,
   "id": "ea51ffd5",
   "metadata": {},
   "outputs": [
    {
     "name": "stdout",
     "output_type": "stream",
     "text": [
      "Best solution: [5.41023967 6.71093709 6.02674946 9.62958981 4.91260193]\n",
      "Best solution fitness: 0.9937701696302123\n",
      "Best solution index: 0\n",
      "Best solution prediction: 99.99373111554344\n"
     ]
    }
   ],
   "source": [
    "solution, fitness, idx = ga_instance.best_solution()\n",
    "prediction: float = predict(solution)\n",
    "\n",
    "print(\"Best solution:\", solution)\n",
    "print(\"Best solution fitness:\", fitness)\n",
    "print(\"Best solution index:\", idx)\n",
    "print(\"Best solution prediction:\", prediction)\n"
   ]
  }
 ],
 "metadata": {
  "kernelspec": {
   "display_name": "model",
   "language": "python",
   "name": "python3"
  },
  "language_info": {
   "codemirror_mode": {
    "name": "ipython",
    "version": 3
   },
   "file_extension": ".py",
   "mimetype": "text/x-python",
   "name": "python",
   "nbconvert_exporter": "python",
   "pygments_lexer": "ipython3",
   "version": "3.9.23"
  }
 },
 "nbformat": 4,
 "nbformat_minor": 5
}
