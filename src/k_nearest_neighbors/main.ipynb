{
 "cells": [
  {
   "cell_type": "markdown",
   "id": "b56e8bbe",
   "metadata": {},
   "source": [
    "# K Nearest Neighbors with the `Scikit-Learn` Library"
   ]
  },
  {
   "cell_type": "markdown",
   "id": "edc90311",
   "metadata": {},
   "source": [
    "Imports"
   ]
  },
  {
   "cell_type": "code",
   "execution_count": 1,
   "id": "e7a500ff",
   "metadata": {},
   "outputs": [],
   "source": [
    "from sklearn.neighbors import KNeighborsClassifier"
   ]
  },
  {
   "cell_type": "markdown",
   "id": "3f362791",
   "metadata": {},
   "source": [
    "Data Preparation"
   ]
  },
  {
   "cell_type": "code",
   "execution_count": 2,
   "id": "95e3191e",
   "metadata": {},
   "outputs": [],
   "source": [
    "import numpy as np\n",
    "\n",
    "X = np.array([0, 1, 2, 3]).reshape((-1, 1))\n",
    "y = np.array([0, 0, 1, 1])"
   ]
  },
  {
   "cell_type": "markdown",
   "id": "2dbdf8b3",
   "metadata": {},
   "source": [
    "Model Usage"
   ]
  },
  {
   "cell_type": "code",
   "execution_count": 3,
   "id": "c713fab1",
   "metadata": {},
   "outputs": [
    {
     "data": {
      "text/plain": [
       "(array([0]), array([[0.66666667, 0.33333333]]))"
      ]
     },
     "execution_count": 3,
     "metadata": {},
     "output_type": "execute_result"
    }
   ],
   "source": [
    "model = KNeighborsClassifier(n_neighbors=3)\n",
    "model.fit(X, y)\n",
    "y = model.predict([[1.1]])\n",
    "y_proba = model.predict_proba([[1.1]])\n",
    "\n",
    "y, y_proba"
   ]
  }
 ],
 "metadata": {
  "kernelspec": {
   "display_name": "model",
   "language": "python",
   "name": "python3"
  },
  "language_info": {
   "codemirror_mode": {
    "name": "ipython",
    "version": 3
   },
   "file_extension": ".py",
   "mimetype": "text/x-python",
   "name": "python",
   "nbconvert_exporter": "python",
   "pygments_lexer": "ipython3",
   "version": "3.9.23"
  }
 },
 "nbformat": 4,
 "nbformat_minor": 5
}
