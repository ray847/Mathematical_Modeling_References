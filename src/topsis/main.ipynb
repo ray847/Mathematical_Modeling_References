{
 "cells": [
  {
   "cell_type": "markdown",
   "id": "51671f38",
   "metadata": {},
   "source": [
    "# TOPSIS implemented with `numpy` & `pandas` library"
   ]
  },
  {
   "cell_type": "markdown",
   "id": "5d2026e3",
   "metadata": {},
   "source": [
    "Imports"
   ]
  },
  {
   "cell_type": "code",
   "execution_count": 4,
   "id": "acb47015",
   "metadata": {},
   "outputs": [],
   "source": [
    "# Imports\n",
    "import topsis\n",
    "import numpy as np\n",
    "import pandas as pd"
   ]
  },
  {
   "cell_type": "markdown",
   "id": "e1e5c017",
   "metadata": {},
   "source": [
    "Data to be Evaluated"
   ]
  },
  {
   "cell_type": "code",
   "execution_count": 5,
   "id": "30954765",
   "metadata": {},
   "outputs": [
    {
     "data": {
      "text/html": [
       "<div>\n",
       "<style scoped>\n",
       "    .dataframe tbody tr th:only-of-type {\n",
       "        vertical-align: middle;\n",
       "    }\n",
       "\n",
       "    .dataframe tbody tr th {\n",
       "        vertical-align: top;\n",
       "    }\n",
       "\n",
       "    .dataframe thead th {\n",
       "        text-align: right;\n",
       "    }\n",
       "</style>\n",
       "<table border=\"1\" class=\"dataframe\">\n",
       "  <thead>\n",
       "    <tr style=\"text-align: right;\">\n",
       "      <th></th>\n",
       "      <th>0</th>\n",
       "      <th>1</th>\n",
       "    </tr>\n",
       "  </thead>\n",
       "  <tbody>\n",
       "    <tr>\n",
       "      <th>0</th>\n",
       "      <td>89</td>\n",
       "      <td>2</td>\n",
       "    </tr>\n",
       "    <tr>\n",
       "      <th>1</th>\n",
       "      <td>60</td>\n",
       "      <td>0</td>\n",
       "    </tr>\n",
       "    <tr>\n",
       "      <th>2</th>\n",
       "      <td>74</td>\n",
       "      <td>1</td>\n",
       "    </tr>\n",
       "    <tr>\n",
       "      <th>3</th>\n",
       "      <td>99</td>\n",
       "      <td>3</td>\n",
       "    </tr>\n",
       "  </tbody>\n",
       "</table>\n",
       "</div>"
      ],
      "text/plain": [
       "    0  1\n",
       "0  89  2\n",
       "1  60  0\n",
       "2  74  1\n",
       "3  99  3"
      ]
     },
     "execution_count": 5,
     "metadata": {},
     "output_type": "execute_result"
    }
   ],
   "source": [
    "data = pd.DataFrame([\n",
    "    [89, 2],\n",
    "    [60, 0],\n",
    "    [74, 1],\n",
    "    [99, 3]\n",
    "])\n",
    "\n",
    "data"
   ]
  },
  {
   "cell_type": "markdown",
   "id": "2c5b3108",
   "metadata": {},
   "source": [
    "Evaluation"
   ]
  },
  {
   "cell_type": "code",
   "execution_count": 6,
   "id": "f024c683",
   "metadata": {},
   "outputs": [
    {
     "data": {
      "text/plain": [
       "array([0.1857001 , 0.38337054, 0.31701594, 0.11391343])"
      ]
     },
     "execution_count": 6,
     "metadata": {},
     "output_type": "execute_result"
    }
   ],
   "source": [
    "topsis.evaluate(\n",
    "    data=data,\n",
    "    targets=[\"max\", \"min\"],\n",
    "    weights=[1, 1]\n",
    ")"
   ]
  }
 ],
 "metadata": {
  "kernelspec": {
   "display_name": "model",
   "language": "python",
   "name": "python3"
  },
  "language_info": {
   "codemirror_mode": {
    "name": "ipython",
    "version": 3
   },
   "file_extension": ".py",
   "mimetype": "text/x-python",
   "name": "python",
   "nbconvert_exporter": "python",
   "pygments_lexer": "ipython3",
   "version": "3.9.23"
  }
 },
 "nbformat": 4,
 "nbformat_minor": 5
}
