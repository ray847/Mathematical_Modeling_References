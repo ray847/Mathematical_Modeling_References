{
 "cells": [
  {
   "cell_type": "markdown",
   "id": "0cd388ce",
   "metadata": {},
   "source": [
    "Solve Linear Programming Problem with the `pulp` Library"
   ]
  },
  {
   "cell_type": "code",
   "execution_count": 32,
   "id": "1716333a",
   "metadata": {},
   "outputs": [],
   "source": [
    "# Import\n",
    "import pulp as lp"
   ]
  },
  {
   "cell_type": "markdown",
   "id": "829f0c66",
   "metadata": {},
   "source": [
    "Define the Problem\n",
    "\n",
    "$$\n",
    "\\min\\, x_1 + 2x_2 + 3x_3\\\\\n",
    "\\text{s.t.} \\begin{cases}\n",
    "2x_1 + x_2 + 3x_3 \\geq 10\\\\\n",
    "4x_1 + 2x_2 + 3x_3 > 15\\\\\n",
    "x_1 \\geq 1\\\\\n",
    "0 \\leq x_2 \\leq 10 \\\\\n",
    "x_3 \\geq 0\\\\\n",
    "x_3 \\in \\mathbb{Z}\n",
    "\\end{cases}\n",
    "$$"
   ]
  },
  {
   "cell_type": "code",
   "execution_count": 33,
   "id": "8181259b",
   "metadata": {},
   "outputs": [
    {
     "name": "stderr",
     "output_type": "stream",
     "text": [
      "c:\\Users\\xiach\\anaconda3\\envs\\model\\lib\\site-packages\\pulp\\pulp.py:1455: UserWarning: Spaces are not permitted in the name. Converted to '_'\n",
      "  warnings.warn(\"Spaces are not permitted in the name. Converted to '_'\")\n"
     ]
    }
   ],
   "source": [
    "# Create the Problem\n",
    "problem = lp.LpProblem(\"Linear Programming Problem\", lp.LpMinimize)\n",
    "\n",
    "# Create the Variables\n",
    "x1 = lp.LpVariable(\"x1\", lowBound=1)\n",
    "x2 = lp.LpVariable(\"x2\", lowBound=0, upBound=10)\n",
    "x3 = lp.LpVariable(\"x3\", lowBound=0, cat=\"Integer\")\n",
    "\n",
    "# Define the Objective Function\n",
    "problem += x1 +  2*x2 + 3*x3, \"Objective Function\"\n",
    "\n",
    "# Define the Constraints\n",
    "problem += 2*x1 + x2 + 3*x3 >= 10   # First way\n",
    "# or\n",
    "problem += lp.lpSum([x1, x2, x3][i] * [4, 2, 3][i] for i in range(3)) >= 15   # Second way"
   ]
  },
  {
   "cell_type": "markdown",
   "id": "b8339bc2",
   "metadata": {},
   "source": [
    "Solve the Problem"
   ]
  },
  {
   "cell_type": "code",
   "execution_count": 34,
   "id": "073be904",
   "metadata": {},
   "outputs": [
    {
     "data": {
      "text/plain": [
       "1"
      ]
     },
     "execution_count": 34,
     "metadata": {},
     "output_type": "execute_result"
    }
   ],
   "source": [
    "problem.solve()"
   ]
  },
  {
   "cell_type": "markdown",
   "id": "9f463558",
   "metadata": {},
   "source": [
    "Check the Results"
   ]
  },
  {
   "cell_type": "code",
   "execution_count": 38,
   "id": "ff985f7b",
   "metadata": {},
   "outputs": [
    {
     "name": "stdout",
     "output_type": "stream",
     "text": [
      "Status: Optimal\n",
      "Variables:\n",
      "\t x1 = 5.0\n",
      "\t x2 = 0.0\n",
      "\t x3 = 0.0\n",
      "Objective function:\n",
      "\t 5.0\n"
     ]
    }
   ],
   "source": [
    "# Status of the problem\n",
    "print(\"Status:\", lp.LpStatus[problem.status])\n",
    "\n",
    "# Variables\n",
    "print(\"Variables:\")\n",
    "for v in problem.variables():\n",
    "    print(\"\\t\", v.name, \"=\", v.varValue)\n",
    "\n",
    "# Objective function\n",
    "print(\"Objective function:\")\n",
    "print(\"\\t\", lp.value(problem.objective))\n"
   ]
  }
 ],
 "metadata": {
  "kernelspec": {
   "display_name": "model",
   "language": "python",
   "name": "python3"
  },
  "language_info": {
   "codemirror_mode": {
    "name": "ipython",
    "version": 3
   },
   "file_extension": ".py",
   "mimetype": "text/x-python",
   "name": "python",
   "nbconvert_exporter": "python",
   "pygments_lexer": "ipython3",
   "version": "3.9.23"
  }
 },
 "nbformat": 4,
 "nbformat_minor": 5
}
